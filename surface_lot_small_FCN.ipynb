{
 "cells": [
  {
   "cell_type": "markdown",
   "metadata": {},
   "source": [
    "# Simple parking lot test\n",
    "We train the network on mock satellite images of a small surface lot. The computer-generated images are very simple colored drawings. This way we can produce a lot of training-test samples.\n",
    "\n",
    "In the first test, there will be **10 spaces**, with a random number of cars occupying them. The goal of the network is to highlight which spaces are open or not."
   ]
  },
  {
   "cell_type": "markdown",
   "metadata": {},
   "source": [
    "# Import libraries"
   ]
  },
  {
   "cell_type": "code",
   "execution_count": null,
   "metadata": {},
   "outputs": [],
   "source": [
    "import numpy as np\n",
    "import math \n",
    "import random \n",
    "from plotly.offline import init_notebook_mode\n",
    "init_notebook_mode()\n",
    "%matplotlib inline\n",
    "import matplotlib.pyplot as plt\n",
    "\n",
    "from keras import models\n",
    "from keras import layers\n",
    "from keras.models import load_model\n",
    "from keras import initializers\n",
    "from keras import optimizers\n",
    "from keras import regularizers\n",
    "from keras import backend as K\n",
    "from sklearn.model_selection import train_test_split"
   ]
  },
  {
   "cell_type": "markdown",
   "metadata": {},
   "source": [
    "# Object dimensions and colors\n",
    "\n",
    "These are just made-up parameters for now. I don't have the exact proportionalities figured out yet. Need to do some research."
   ]
  },
  {
   "cell_type": "code",
   "execution_count": null,
   "metadata": {},
   "outputs": [],
   "source": [
    "# parking lot size\n",
    "lot_height = 51\n",
    "lot_width = 71\n",
    "\n",
    "# parking lot box \n",
    "box_height = 31\n",
    "box_length = 50\n",
    "line_width = 1\n",
    "space_width = 10\n",
    "\n",
    "spaces_per_row = 5\n",
    "number_of_groups = 1\n",
    "\n",
    "# car size\n",
    "car_length = 12\n",
    "car_width = 7\n",
    "\n",
    "# number of cars\n",
    "max_cars = 2 * spaces_per_row * number_of_groups\n",
    "\n",
    "# randomly displace cars\n",
    "displace_car = True\n",
    "\n",
    "# add gaussian noise to color\n",
    "gaussian_noise = True\n",
    "\n",
    "# random people (noise)\n",
    "add_people = True\n",
    "max_people = 10\n",
    "\n",
    "# amount of data   \n",
    "tagged_samples = 100000\n",
    "test_samples = 1000\n"
   ]
  },
  {
   "cell_type": "markdown",
   "metadata": {},
   "source": [
    "# Make the background\n",
    "\n",
    "The pavement will just be gray for now (images are grayscale)"
   ]
  },
  {
   "cell_type": "code",
   "execution_count": null,
   "metadata": {},
   "outputs": [],
   "source": [
    "background = 100 * np.ones(lot_height * lot_width)\n",
    "background = background.reshape(lot_height, lot_width)\n",
    "\n",
    "plt.imshow(background, cmap = 'gray', vmin = 0, vmax = 255)\n",
    "plt.show()\n"
   ]
  },
  {
   "cell_type": "markdown",
   "metadata": {},
   "source": [
    "# Make the parking lot box "
   ]
  },
  {
   "cell_type": "code",
   "execution_count": null,
   "metadata": {},
   "outputs": [],
   "source": [
    "def add_parking_lot_box(image, box_height, box_length, line_width, shift, space_width, spaces_per_row):\n",
    "\n",
    "    # add white vertical lines\n",
    "    for n in range(spaces_per_row + 1):\n",
    "        for i in range(box_height):\n",
    "            image[i + shift][(space_width*(n+1)):(space_width*(n+1) + line_width)] = 255    \n",
    "            \n",
    "    # add white horizontal lines\n",
    "    mid_point = shift + math.floor(box_height/2)\n",
    "    for i in range(line_width):\n",
    "        image[mid_point + i][space_width:(space_width + box_length)] = 255  \n",
    "\n",
    "    return image\n",
    "\n",
    "shift1 = space_width\n",
    "\n",
    "parking_lot = background.copy()\n",
    "parking_lot = add_parking_lot_box(parking_lot, box_height, box_length, line_width, shift1, space_width, spaces_per_row)\n",
    "\n",
    "plt.imshow(parking_lot, cmap = 'gray', vmin = 0, vmax = 255)\n",
    "plt.show()"
   ]
  },
  {
   "cell_type": "markdown",
   "metadata": {},
   "source": [
    "# Make one noisy background\n",
    "\n",
    "For training and validation"
   ]
  },
  {
   "cell_type": "code",
   "execution_count": null,
   "metadata": {},
   "outputs": [],
   "source": [
    "parking_lot_noise = parking_lot.copy()\n",
    "\n",
    "for i in range(parking_lot_noise.shape[0]):\n",
    "    for j in range(parking_lot_noise .shape[1]):\n",
    "        noise = max(-6, min(6, np.random.normal(0,3)))\n",
    "        parking_lot_noise [i][j] = max(0, min(255, parking_lot_noise [i][j] + noise))\n",
    "        \n",
    "plt.imshow(parking_lot_noise, cmap = 'gray', vmin = 0, vmax = 255)\n",
    "plt.show()"
   ]
  },
  {
   "cell_type": "markdown",
   "metadata": {},
   "source": [
    "# Add one car somewhere\n",
    "\n",
    "**The cars have 12 possible colors** (not including background color = 100)\n",
    "\n",
    "**Option to displace car slightly**"
   ]
  },
  {
   "cell_type": "code",
   "execution_count": null,
   "metadata": {},
   "outputs": [],
   "source": [
    "def add_car(parking_lot, displace_car, i0, j0, car_length, car_width):\n",
    "    # 12 possible colors =/= background color \n",
    "    # (0, 10, 20, 30, 40, 50, 60, 140, 150, 160, 170, 180, 190, 200)\n",
    "    color1 = 10 * random.randint(0, 6)\n",
    "    color2 = 10 * random.randint(14, 20)\n",
    "    color = np.random.choice([color1, color2], p = [0.5, 0.5])\n",
    "    \n",
    "    if displace_car:\n",
    "        i0 += np.random.choice([-1,0,1], p = [0.2, 0.6, 0.2])\n",
    "        j0 += np.random.choice([-1,0,1], p = [0.2, 0.6, 0.2])\n",
    "\n",
    "    for i in range(car_length):\n",
    "        for j in range(car_width):\n",
    "            noise = 0\n",
    "            if gaussian_noise:\n",
    "                noise = max(-40, min(40,np.random.normal(0,20)))\n",
    "                \n",
    "            parking_lot[i0 + i][j0 + j] = max(0, min(255, color + noise))\n",
    "            \n",
    "    return parking_lot\n",
    "\n",
    "# starting indices in the image\n",
    "i0 = space_width + line_width + 1\n",
    "j0 = space_width + 2*line_width\n",
    "\n",
    "parking_lot_fill = add_car(parking_lot.copy(), displace_car, i0 + 0*15, j0 + 3*10, car_length, car_width)\n",
    "plt.imshow(parking_lot_fill, cmap = 'gray', vmin = 0, vmax = 255)\n",
    "plt.show()"
   ]
  },
  {
   "cell_type": "markdown",
   "metadata": {},
   "source": [
    "# Randomly filled parking lot\n",
    "\n",
    "Randomly occupied parking lot\n",
    "**Let's also add people for fun**"
   ]
  },
  {
   "cell_type": "code",
   "execution_count": null,
   "metadata": {},
   "outputs": [],
   "source": [
    "def random_lot_2(lot, displace_car, add_people, max_people, max_cars, total_cars, spaces_per_row, i0, j0, car_length, car_width): \n",
    "    if gaussian_noise:\n",
    "        for i in range(lot.shape[0]):\n",
    "            for j in range(lot.shape[1]):\n",
    "                noise = max(-6, min(6, np.random.normal(0,3)))\n",
    "                lot[i][j] = max(0, min(255, lot[i][j] + noise))\n",
    "    \n",
    "    if add_people:\n",
    "        people = random.randint(0, max_people)\n",
    "        for n in range(people):\n",
    "            i = random.randint(0, lot.shape[0] - 2)\n",
    "            j = random.randint(0, lot.shape[1] - 2)\n",
    "            for x in range(2):\n",
    "                for y in range(2):\n",
    "                    lot[i+x][j+y] = 40\n",
    "    \n",
    "    occupancy_index = random.sample(range(0, max_cars), total_cars)\n",
    "    #occupancy = np.zeros(max_cars)\n",
    "    occupancy = np.ones(max_cars)\n",
    "    \n",
    "    for n in range(max_cars):\n",
    "        if n in occupancy_index:\n",
    "            #occupancy[n] = 1\n",
    "            occupancy[n] = 0\n",
    "            i = math.floor(n / spaces_per_row)\n",
    "            j = n  -  spaces_per_row * i\n",
    "            lot = add_car(lot, displace_car, i0 + i*15, j0 + j*10, car_length, car_width)\n",
    "        \n",
    "    return lot, occupancy"
   ]
  },
  {
   "cell_type": "markdown",
   "metadata": {},
   "source": [
    "# Tagged parking lot dataset to train network\n",
    "\n",
    "**The tagged squares can have four different colors**"
   ]
  },
  {
   "cell_type": "code",
   "execution_count": null,
   "metadata": {
    "scrolled": true
   },
   "outputs": [],
   "source": [
    "# tag parking spaces\n",
    "def tag_spaces(image, i0, j0):\n",
    "    # random white or black tags\n",
    "    color = np.random.choice([0, 40, 160, 200], p = [0.25, 0.25, 0.25, 0.25])\n",
    "    for i in range(4):\n",
    "        for j in range(3):\n",
    "            image[i0 + i][j0 + j] = color\n",
    "    return image\n",
    "\n",
    "def tag_parking_lot(lot, max_cars, total_cars, spaces_per_row, i0, j0):\n",
    "    \n",
    "    occupancy_index = random.sample(range(0, max_cars), total_cars)\n",
    "    #occupancy = np.zeros(max_cars)\n",
    "    occupancy = np.ones(max_cars)\n",
    "    \n",
    "    for n in range(max_cars):\n",
    "        if n in occupancy_index:\n",
    "            #occupancy[n] = 1\n",
    "            occupancy[n] = 0\n",
    "            i = math.floor(n / spaces_per_row)\n",
    "            j = n  -  spaces_per_row * i\n",
    "            lot = tag_spaces(lot, i0+4 + i*15, j0+2 + j*10)\n",
    "    return lot, occupancy\n",
    "\n",
    "\n",
    "# tagged pretraining images\n",
    "lot_tag_total = np.zeros(tagged_samples * lot_height * lot_width).reshape(tagged_samples, lot_height * lot_width)\n",
    "occupancy_tag_label = np.zeros(tagged_samples * max_cars).reshape(tagged_samples, max_cars)\n",
    "\n",
    "# random tagged parking lots\n",
    "for i in range(tagged_samples):\n",
    "    total_cars = random.randint(0, max_cars)\n",
    "    lot, occupancy = tag_parking_lot(parking_lot_noise.copy(), max_cars, total_cars, spaces_per_row, i0, j0)\n",
    " \n",
    "    # renormalize the gray-scale images\n",
    "    lot_tag_total[i] = lot.reshape(lot_height * lot_width) / 255\n",
    "    occupancy_tag_label[i] = occupancy\n",
    "\n",
    "\n",
    "# plot a random parking lot sample\n",
    "print(occupancy_tag_label[0].reshape(2,5))\n",
    "plt.imshow(lot_tag_total[0].reshape(lot_height, lot_width), cmap = 'gray', vmin = 0, vmax = 1)\n",
    "plt.show()"
   ]
  },
  {
   "cell_type": "markdown",
   "metadata": {},
   "source": [
    "# Train a FCN network on tagged spaces"
   ]
  },
  {
   "cell_type": "code",
   "execution_count": null,
   "metadata": {},
   "outputs": [],
   "source": [
    "train_network = True\n",
    "load_network = False\n",
    "\n",
    "hidden_nodes = 12 * max_cars\n",
    "output_nodes = max_cars\n",
    "\n",
    "hidden_activation = 'relu'\n",
    "output_activation = 'sigmoid'\n",
    "\n",
    "optimizer = 'sgd'\n",
    "loss = 'binary_crossentropy'\n",
    "\n",
    "epochs = 100\n",
    "batch_size = 100\n",
    "\n",
    "network = models.Sequential()\n",
    "network.add(layers.Dense(hidden_nodes, activation = hidden_activation, input_shape = (lot_height * lot_width,)))\n",
    "network.add(layers.Dense(output_nodes, activation = output_activation))\n",
    "network.compile(optimizer = optimizer, loss = loss, metrics = ['accuracy'])\n",
    "\n",
    "if load_network:\n",
    "    network.load_weights('FCN_network_tagged_small.h5')\n",
    "\n",
    "# training data = tagged parking lots\n",
    "train_images, val_images, train_labels, val_labels = train_test_split(lot_tag_total, occupancy_tag_label, test_size=0.2,random_state=42)\n",
    "\n",
    "if train_network:\n",
    "    history = network.fit(train_images, train_labels, epochs=epochs, batch_size=batch_size, validation_data=(val_images, val_labels))\n",
    "    network.save('FCN_network_tagged_small.h5')\n",
    "    \n",
    "    "
   ]
  },
  {
   "cell_type": "markdown",
   "metadata": {},
   "source": [
    "# Highlight occupied spaces to visualize predictions"
   ]
  },
  {
   "cell_type": "code",
   "execution_count": null,
   "metadata": {},
   "outputs": [],
   "source": [
    "def highlight_occupied_spaces(image, i0, j0):\n",
    "    for i in range(5):\n",
    "        for j in range(5):\n",
    "            color = 0\n",
    "            if i in range(1,4) and j in range(1,4):\n",
    "                color = 255\n",
    "            image[i0 + i][j0 + j] = color  \n",
    "    return image\n",
    "\n",
    "def highlight_parking_lot(image, occupancy_predict, max_cars, spaces_per_row, i0, j0):  \n",
    "    for s in range(max_cars):\n",
    "        if occupancy_predict[s] == 1:\n",
    "            i = math.floor(s / spaces_per_row)\n",
    "            j = s  -  spaces_per_row * i\n",
    "            image = highlight_occupied_spaces(image, i0+3 + i*16, j0+1 + j*10)            \n",
    "    return image"
   ]
  },
  {
   "cell_type": "markdown",
   "metadata": {},
   "source": [
    "# Test how well the network labels occupancy "
   ]
  },
  {
   "cell_type": "code",
   "execution_count": null,
   "metadata": {},
   "outputs": [],
   "source": [
    "lot_test_images = np.zeros(test_samples * lot_height * lot_width).reshape(test_samples, lot_height * lot_width)\n",
    "occupancy_test_label = np.zeros(test_samples * max_cars).reshape(test_samples, max_cars)\n",
    "\n",
    "test_accuracy_cars = np.zeros(max_cars + 1)\n",
    "\n",
    "for total_cars in range(max_cars + 1):\n",
    "    for i in range(test_samples):\n",
    "        lot, occupancy = random_lot_2(parking_lot.copy(), displace_car, add_people, max_people, max_cars, total_cars, spaces_per_row, i0, j0, car_length, car_width)\n",
    "    \n",
    "        # renormalize the gray-scale images\n",
    "        lot_test_images[i] = lot.reshape(lot_height * lot_width) / 255\n",
    "        occupancy_test_label[i] = occupancy\n",
    "        \n",
    "    test_loss, test_accuracy = network.evaluate(lot_test_images, occupancy_test_label)\n",
    "    predict_occupancy = network.predict(lot_test_images).round(0)\n",
    "    \n",
    "    print()\n",
    "    print(\"Network performance:\", total_cars, \"car(s)\")\n",
    "    print(\"-------------------------------------\")\n",
    "    print(\"Test loss = \", test_loss)\n",
    "    print(\"Test accuracy = \", test_accuracy)\n",
    "    print()\n",
    "\n",
    "    test_accuracy_cars[total_cars] = test_accuracy\n",
    "    \n",
    "    # print visual predictions\n",
    "    for i in range(5):\n",
    "        # undo normalization for plotting \n",
    "        unscaled_lot = (lot_test_images[i] * 255).reshape(lot_height, lot_width)\n",
    "        occupancy = predict_occupancy[i]\n",
    "        highlighted_parking_lot = highlight_parking_lot(unscaled_lot, occupancy, max_cars, spaces_per_row, i0, j0)\n",
    "\n",
    "        plt.imshow(highlighted_parking_lot.reshape(lot_height, lot_width), cmap = 'gray', vmin = 0, vmax = 255)\n",
    "        plt.show()\n",
    "\n",
    "print(test_accuracy_cars)"
   ]
  },
  {
   "cell_type": "markdown",
   "metadata": {},
   "source": [
    "# Plot accuracy vs number of cars"
   ]
  },
  {
   "cell_type": "code",
   "execution_count": null,
   "metadata": {},
   "outputs": [],
   "source": [
    "import plotly.offline as py\n",
    "from plotly.offline import download_plotlyjs, init_notebook_mode, plot, iplot\n",
    "import plotly.graph_objs as go\n",
    "from matplotlib.pyplot import figure"
   ]
  },
  {
   "cell_type": "code",
   "execution_count": null,
   "metadata": {},
   "outputs": [],
   "source": [
    "test_accuracy_cars.mean()"
   ]
  },
  {
   "cell_type": "code",
   "execution_count": null,
   "metadata": {},
   "outputs": [],
   "source": [
    "bar_width = 0.9\n",
    "opacity = 0.75\n",
    "\n",
    "fig = plt.figure(figsize=(10,6))\n",
    "plt.bar(np.arange(max_cars+1), test_accuracy_cars, bar_width, align='center', alpha=opacity, color='red')\n",
    "plt.ylim(0.95,1.005)\n",
    "plt.xticks(np.arange(0, 11, step=1))\n",
    "plt.ylabel('Test accuracy')\n",
    "plt.xlabel('Number of parked cars')\n",
    "plt.title('FCN Performance')\n",
    "plt.rc('font', size=12)          # controls default text sizes\n",
    "plt.rc('axes', titlesize=18)     # fontsize of the axes title\n",
    "plt.rc('axes', labelsize=16)     # fontsize of the x and y labels\n",
    "plt.rc('xtick', labelsize=14)    # fontsize of the tick labels\n",
    "plt.rc('ytick', labelsize=14)    # fontsize of the tick labels\n",
    "plt.rc('legend', fontsize=12)    # legend fontsize\n",
    "plt.rc('figure', titlesize=12)   # fontsize of the figure title\n",
    "plt.show()"
   ]
  },
  {
   "cell_type": "code",
   "execution_count": null,
   "metadata": {},
   "outputs": [],
   "source": []
  }
 ],
 "metadata": {
  "kernelspec": {
   "display_name": "Python 3.6 (Conda 5.2) [python/3.6-conda5.2]",
   "language": "python",
   "name": "sys_python36conda"
  },
  "language_info": {
   "codemirror_mode": {
    "name": "ipython",
    "version": 3
   },
   "file_extension": ".py",
   "mimetype": "text/x-python",
   "name": "python",
   "nbconvert_exporter": "python",
   "pygments_lexer": "ipython3",
   "version": "3.6.6"
  }
 },
 "nbformat": 4,
 "nbformat_minor": 2
}
